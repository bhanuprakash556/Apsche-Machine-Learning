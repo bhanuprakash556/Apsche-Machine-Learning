{
 "cells": [
  {
   "cell_type": "code",
   "execution_count": 3,
   "id": "d2bc5f35-1235-4d5a-82cf-f7ab7ddd8d08",
   "metadata": {},
   "outputs": [],
   "source": [
    "import numpy as np"
   ]
  },
  {
   "cell_type": "markdown",
   "id": "4533d91c-cf87-4b9b-8bb7-f8c217304012",
   "metadata": {},
   "source": [
    "# Numpy used  for Array creation"
   ]
  },
  {
   "cell_type": "markdown",
   "id": "64eb3b22-0884-4acf-9c00-3d78bf206bb6",
   "metadata": {},
   "source": [
    "## 1 . Using Python data collections [list, tuple, set] create numpy array\n",
    "## 2.  Using Numpy default function for the creation Numpy arrays\n",
    "## 3. Convert list, tuple to numpy arrays"
   ]
  },
  {
   "cell_type": "code",
   "execution_count": 8,
   "id": "9cc5b5b3-7557-4d9b-a9da-f7491519ffa8",
   "metadata": {},
   "outputs": [
    {
     "name": "stdout",
     "output_type": "stream",
     "text": [
      "[[1 2 3 4 5]\n",
      " [1 2 3 4 5]]\n",
      "<class 'numpy.ndarray'>\n"
     ]
    }
   ],
   "source": [
    "# python list\n",
    "# single dimension arrya\n",
    "li = [1,2,3,4,5]\n",
    "type(li)\n",
    "# creastion of numpy array from list\n",
    "np_li = np.array(li)\n",
    "type(np_li)\n",
    "\n",
    "## 2d dimensional array\n",
    "\n",
    "li_2d = [[1,2,3,4,5], [1,2,3,4,5]]\n",
    "np_2d = np.array(li_2d)\n",
    "print(np_2d)\n",
    "print(type(np_2d))"
   ]
  },
  {
   "cell_type": "markdown",
   "id": "28e42300-0fdd-46fb-a1d5-acefb9225b4b",
   "metadata": {},
   "source": [
    "# Diffrent Basic function with numpy arrays"
   ]
  },
  {
   "cell_type": "markdown",
   "id": "ea208d31-dde8-4513-bbcd-4c70bd48c85a",
   "metadata": {},
   "source": [
    "# 1. shape\n",
    "# 2 .ndim\n",
    "# 3. dtype"
   ]
  },
  {
   "cell_type": "code",
   "execution_count": 11,
   "id": "da675f7d-2807-4dad-9d91-4b6cc7eda923",
   "metadata": {},
   "outputs": [
    {
     "name": "stdout",
     "output_type": "stream",
     "text": [
      "shape of array (2, 5)\n",
      "dimensions of array 2\n",
      "data type of array int32\n"
     ]
    }
   ],
   "source": [
    "print(\"shape of array\",np_2d.shape)\n",
    "print(\"dimensions of array\",np_2d.ndim)\n",
    "print(\"data type of array\",np_2d.dtype)"
   ]
  },
  {
   "cell_type": "markdown",
   "id": "b09f1ea6-b5d8-451a-90e9-b45cc381eff9",
   "metadata": {},
   "source": [
    "## 1. np.zeros\n",
    "## 2. np.ones\n",
    "## 3. np.arrange\n",
    "## 4. np.random"
   ]
  },
  {
   "cell_type": "code",
   "execution_count": 20,
   "id": "2bfbd4be-a635-4663-9f9b-22d668cbc4c8",
   "metadata": {},
   "outputs": [
    {
     "name": "stdout",
     "output_type": "stream",
     "text": [
      "[[0 0 0 0 0]\n",
      " [0 0 0 0 0]]\n",
      "(2, 5)\n",
      "ndim :\n",
      "2\n",
      "dtype\n",
      "int32\n"
     ]
    }
   ],
   "source": [
    "zeros = np.zeros((2,5),dtype=int)\n",
    "print(zeros)\n",
    "print(zeros.shape)\n",
    "print(\"ndim :\")\n",
    "print(zeros.ndim)\n",
    "print(\"dtype\")\n",
    "print(zeros.dtype)"
   ]
  },
  {
   "cell_type": "code",
   "execution_count": 21,
   "id": "a69c57f6-7899-4f37-b9ed-c5e399a31ad3",
   "metadata": {},
   "outputs": [
    {
     "name": "stdout",
     "output_type": "stream",
     "text": [
      "[[1 1 1 1 1]\n",
      " [1 1 1 1 1]]\n",
      "(2, 5)\n",
      "ndim :\n",
      "2\n",
      "dtype\n",
      "int32\n"
     ]
    }
   ],
   "source": [
    "zeros = np.ones((2,5),dtype=int)\n",
    "print(zeros)\n",
    "print(zeros.shape)\n",
    "print(\"ndim :\")\n",
    "print(zeros.ndim)\n",
    "print(\"dtype\")\n",
    "print(zeros.dtype)"
   ]
  },
  {
   "cell_type": "code",
   "execution_count": 29,
   "id": "c3536d3c-666b-4f87-9ae5-791ee6e11627",
   "metadata": {},
   "outputs": [
    {
     "data": {
      "text/plain": [
       "array([0, 1, 2, 3, 4, 5, 6, 7, 8, 9])"
      ]
     },
     "execution_count": 29,
     "metadata": {},
     "output_type": "execute_result"
    }
   ],
   "source": [
    "np.arange(0,10,1)"
   ]
  },
  {
   "cell_type": "code",
   "execution_count": 32,
   "id": "6211c8d4-e061-4d07-b2c0-d20321147ebf",
   "metadata": {},
   "outputs": [
    {
     "data": {
      "text/plain": [
       "array([[0.1292537 , 0.40760633, 0.76964725],\n",
       "       [0.8286329 , 0.38018929, 0.65908127],\n",
       "       [0.35376307, 0.06639942, 0.93274224]])"
      ]
     },
     "execution_count": 32,
     "metadata": {},
     "output_type": "execute_result"
    }
   ],
   "source": [
    "np.random.random((3,3))"
   ]
  },
  {
   "cell_type": "markdown",
   "id": "7d82cfcb-ca5c-45aa-ada7-b30de28b0efa",
   "metadata": {},
   "source": [
    "# work on slicing "
   ]
  },
  {
   "cell_type": "code",
   "execution_count": 33,
   "id": "77df6dec-23e0-4991-8db6-c66de1f4228f",
   "metadata": {},
   "outputs": [],
   "source": [
    "arr = np.arange(10)"
   ]
  },
  {
   "cell_type": "code",
   "execution_count": 34,
   "id": "5eb92418-ae10-4117-8f84-8b0251792503",
   "metadata": {},
   "outputs": [
    {
     "data": {
      "text/plain": [
       "array([0, 1, 2, 3, 4, 5, 6, 7, 8, 9])"
      ]
     },
     "execution_count": 34,
     "metadata": {},
     "output_type": "execute_result"
    }
   ],
   "source": [
    "arr"
   ]
  },
  {
   "cell_type": "code",
   "execution_count": 37,
   "id": "a7458ae8-d0f9-4010-8f30-d5e4ee8d1f37",
   "metadata": {},
   "outputs": [
    {
     "data": {
      "text/plain": [
       "0"
      ]
     },
     "execution_count": 37,
     "metadata": {},
     "output_type": "execute_result"
    }
   ],
   "source": [
    "arr[0]"
   ]
  },
  {
   "cell_type": "code",
   "execution_count": 38,
   "id": "576cccf4-0c87-4c2d-b79e-287dca29290f",
   "metadata": {},
   "outputs": [
    {
     "data": {
      "text/plain": [
       "10"
      ]
     },
     "execution_count": 38,
     "metadata": {},
     "output_type": "execute_result"
    }
   ],
   "source": [
    "len(arr)"
   ]
  },
  {
   "cell_type": "code",
   "execution_count": 39,
   "id": "c1142fdd-e0fe-40fc-89af-51da4308b796",
   "metadata": {},
   "outputs": [
    {
     "name": "stdout",
     "output_type": "stream",
     "text": [
      "0\n",
      "1\n",
      "2\n",
      "3\n",
      "4\n",
      "5\n",
      "6\n",
      "7\n",
      "8\n",
      "9\n"
     ]
    }
   ],
   "source": [
    "for i in arr:\n",
    "    print(i)"
   ]
  },
  {
   "cell_type": "code",
   "execution_count": 41,
   "id": "426fc0eb-e5bb-4681-a693-e2f9a76e9721",
   "metadata": {},
   "outputs": [
    {
     "data": {
      "text/plain": [
       "array([0, 1, 2, 3, 4])"
      ]
     },
     "execution_count": 41,
     "metadata": {},
     "output_type": "execute_result"
    }
   ],
   "source": [
    "arr[:5]"
   ]
  },
  {
   "cell_type": "code",
   "execution_count": 45,
   "id": "445f9498-32db-4f09-9334-a1a3a9190e98",
   "metadata": {},
   "outputs": [
    {
     "name": "stdout",
     "output_type": "stream",
     "text": [
      "[0 1 2 3 4]\n",
      "[0 1 2 3 4]\n",
      "[ 0  1  4  9 16]\n"
     ]
    }
   ],
   "source": [
    "## mathematical operations\n",
    "\n",
    "arr1 = np.arange(5)\n",
    "print(arr1)\n",
    "arrr2 = np.arange(5)\n",
    "print(arrr2)\n",
    "arr3 = arr1 + arrr2\n",
    "arr3 = arr1 * arrr2\n",
    "print(arr3)"
   ]
  },
  {
   "cell_type": "code",
   "execution_count": 50,
   "id": "921846f6-362f-4ee6-8c55-98d7c5e6f4d3",
   "metadata": {},
   "outputs": [
    {
     "name": "stdout",
     "output_type": "stream",
     "text": [
      "mean 6.0\n",
      "max 16\n",
      "min 0\n",
      "standart devation 5.89915248150105\n"
     ]
    }
   ],
   "source": [
    "print(\"mean\",arr3.mean())\n",
    "print(\"max\",arr3.max())\n",
    "print(\"min\",arr3.min())\n",
    "print(\"standart devation\", arr3.std())"
   ]
  },
  {
   "cell_type": "markdown",
   "id": "63439175-3d02-4fd7-a207-fbad8b720dbe",
   "metadata": {},
   "source": [
    "# Reshaping the array"
   ]
  },
  {
   "cell_type": "code",
   "execution_count": 51,
   "id": "850d828a-f275-425c-b621-37b46e15c405",
   "metadata": {},
   "outputs": [
    {
     "data": {
      "text/plain": [
       "(10,)"
      ]
     },
     "execution_count": 51,
     "metadata": {},
     "output_type": "execute_result"
    }
   ],
   "source": [
    "arr.shape"
   ]
  },
  {
   "cell_type": "code",
   "execution_count": 53,
   "id": "bf651306-4e80-4149-9ed6-8922c0cf03dc",
   "metadata": {},
   "outputs": [
    {
     "data": {
      "text/plain": [
       "array([0, 1, 2, 3, 4, 5, 6, 7, 8, 9])"
      ]
     },
     "execution_count": 53,
     "metadata": {},
     "output_type": "execute_result"
    }
   ],
   "source": [
    "arr"
   ]
  },
  {
   "cell_type": "code",
   "execution_count": 52,
   "id": "6e952983-9a4e-40d4-a04d-80c4673239ea",
   "metadata": {},
   "outputs": [
    {
     "data": {
      "text/plain": [
       "array([[0, 1, 2, 3, 4],\n",
       "       [5, 6, 7, 8, 9]])"
      ]
     },
     "execution_count": 52,
     "metadata": {},
     "output_type": "execute_result"
    }
   ],
   "source": [
    "arr.reshape((2,5))"
   ]
  },
  {
   "cell_type": "code",
   "execution_count": 54,
   "id": "283ff67c-cb43-4846-a638-ba1099342182",
   "metadata": {},
   "outputs": [
    {
     "data": {
      "text/plain": [
       "array([[0, 1],\n",
       "       [2, 3],\n",
       "       [4, 5],\n",
       "       [6, 7],\n",
       "       [8, 9]])"
      ]
     },
     "execution_count": 54,
     "metadata": {},
     "output_type": "execute_result"
    }
   ],
   "source": [
    "arr.reshape((5,2))"
   ]
  },
  {
   "cell_type": "code",
   "execution_count": 55,
   "id": "a1f34fb8-54b5-4ffc-a7d8-d072c4f8f071",
   "metadata": {},
   "outputs": [
    {
     "ename": "ValueError",
     "evalue": "cannot reshape array of size 10 into shape (5,3)",
     "output_type": "error",
     "traceback": [
      "\u001b[1;31m---------------------------------------------------------------------------\u001b[0m",
      "\u001b[1;31mValueError\u001b[0m                                Traceback (most recent call last)",
      "Cell \u001b[1;32mIn[55], line 1\u001b[0m\n\u001b[1;32m----> 1\u001b[0m \u001b[43marr\u001b[49m\u001b[38;5;241;43m.\u001b[39;49m\u001b[43mreshape\u001b[49m\u001b[43m(\u001b[49m\u001b[43m(\u001b[49m\u001b[38;5;241;43m5\u001b[39;49m\u001b[43m,\u001b[49m\u001b[38;5;241;43m3\u001b[39;49m\u001b[43m)\u001b[49m\u001b[43m)\u001b[49m\n",
      "\u001b[1;31mValueError\u001b[0m: cannot reshape array of size 10 into shape (5,3)"
     ]
    }
   ],
   "source": [
    "arr.reshape((5,3))"
   ]
  },
  {
   "cell_type": "code",
   "execution_count": null,
   "id": "4f355d90-708c-4379-b0f9-ebfe4a9b337a",
   "metadata": {},
   "outputs": [],
   "source": []
  }
 ],
 "metadata": {
  "kernelspec": {
   "display_name": "Python 3 (ipykernel)",
   "language": "python",
   "name": "python3"
  },
  "language_info": {
   "codemirror_mode": {
    "name": "ipython",
    "version": 3
   },
   "file_extension": ".py",
   "mimetype": "text/x-python",
   "name": "python",
   "nbconvert_exporter": "python",
   "pygments_lexer": "ipython3",
   "version": "3.12.3"
  }
 },
 "nbformat": 4,
 "nbformat_minor": 5
}
